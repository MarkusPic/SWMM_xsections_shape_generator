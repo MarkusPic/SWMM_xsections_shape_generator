{
 "cells": [
  {
   "cell_type": "raw",
   "metadata": {
    "raw_mimetype": "text/restructuredtext"
   },
   "source": [
    ".. _Examples_for_box_shaped_profiles:"
   ]
  },
  {
   "cell_type": "markdown",
   "metadata": {},
   "source": [
    "# Examples for box shaped profiles"
   ]
  },
  {
   "cell_type": "code",
   "execution_count": 1,
   "metadata": {
    "pycharm": {
     "is_executing": false
    }
   },
   "outputs": [],
   "source": [
    "from shape_generator import CrossSectionHolding as CrossSection\n",
    "unit = 'cm'  # only for the title in the plot"
   ]
  },
  {
   "cell_type": "code",
   "execution_count": 2,
   "metadata": {
    "pycharm": {
     "is_executing": false
    }
   },
   "outputs": [
    {
     "name": "stdout",
     "output_type": "stream",
     "text": [
      "______________________________\n",
      "Pr_K.60:  \n"
     ]
    },
    {
     "data": {
      "image/png": "[encoded data removed]",
      "text/plain": [
       "<Figure size 432x288 with 1 Axes>"
      ]
     },
     "metadata": {},
     "output_type": "display_data"
    }
   ],
   "source": [
    "no = 'K.60'\n",
    "height = 200\n",
    "width = 150\n",
    "kasten = CrossSection.box_from_string(no, height=height, width=width, unit=unit)\n",
    "\n",
    "fig = kasten.profile_abs_figure()"
   ]
  },
  {
   "cell_type": "code",
   "execution_count": 3,
   "metadata": {
    "pycharm": {
     "is_executing": false
    }
   },
   "outputs": [
    {
     "name": "stdout",
     "output_type": "stream",
     "text": [
      "______________________________\n",
      "Pr_K.R_B:  \n"
     ]
    },
    {
     "data": {
      "image/png": "[encoded data removed]",
      "text/plain": [
       "<Figure size 432x288 with 1 Axes>"
      ]
     },
     "metadata": {},
     "output_type": "display_data"
    }
   ],
   "source": [
    "no = 'K.R_B'\n",
    "height = 200\n",
    "width = 150\n",
    "kasten = CrossSection.box_from_string(no, height=height, width=width, unit=unit)\n",
    "\n",
    "fig = kasten.profile_abs_figure()"
   ]
  },
  {
   "cell_type": "code",
   "execution_count": 4,
   "metadata": {
    "pycharm": {
     "is_executing": false
    }
   },
   "outputs": [
    {
     "name": "stdout",
     "output_type": "stream",
     "text": [
      "______________________________\n",
      "Pr_K.60H_K:  \n"
     ]
    },
    {
     "data": {
      "image/png": "[encoded data removed]",
      "text/plain": [
       "<Figure size 432x288 with 1 Axes>"
      ]
     },
     "metadata": {},
     "output_type": "display_data"
    }
   ],
   "source": [
    "no = 'K.60H_K'\n",
    "height = 200\n",
    "width = 100\n",
    "kasten = CrossSection.box_from_string(no, height=height, width=width, unit=unit)\n",
    "\n",
    "fig = kasten.profile_abs_figure()"
   ]
  },
  {
   "cell_type": "code",
   "execution_count": 5,
   "metadata": {
    "pycharm": {
     "is_executing": false
    }
   },
   "outputs": [
    {
     "name": "stdout",
     "output_type": "stream",
     "text": [
      "Pr_K.60H_K  shape 0.0031 0.0604\n",
      "Pr_K.60H_K        0.0061 0.0848\n",
      "Pr_K.60H_K        0.0092 0.1034\n",
      "Pr_K.60H_K        0.0122 0.1188\n",
      "Pr_K.60H_K        0.0153 0.1320\n",
      "Pr_K.60H_K        0.0184 0.1438\n",
      "Pr_K.60H_K        0.0214 0.1546\n",
      "Pr_K.60H_K        0.0245 0.1642\n",
      "Pr_K.60H_K        0.0276 0.1732\n",
      "Pr_K.60H_K        0.0306 0.1816\n",
      "Pr_K.60H_K        0.0337 0.1894\n",
      "Pr_K.60H_K        0.0367 0.1966\n",
      "Pr_K.60H_K        0.0398 0.2036\n",
      "Pr_K.60H_K        0.0429 0.2100\n",
      "Pr_K.60H_K        0.0439 0.2122\n",
      "Pr_K.60H_K        0.1879 0.5000\n",
      "Pr_K.60H_K        0.7500 0.5000\n",
      "Pr_K.60H_K        0.7531 0.5000\n",
      "Pr_K.60H_K        0.7561 0.4998\n",
      "Pr_K.60H_K        0.7592 0.4996\n",
      "Pr_K.60H_K        0.7622 0.4994\n",
      "Pr_K.60H_K        0.7653 0.4990\n",
      "Pr_K.60H_K        0.7684 0.4986\n",
      "Pr_K.60H_K        0.7714 0.4982\n",
      "Pr_K.60H_K        0.7745 0.4976\n",
      "Pr_K.60H_K        0.7776 0.4970\n",
      "Pr_K.60H_K        0.7806 0.4962\n",
      "Pr_K.60H_K        0.7837 0.4954\n",
      "Pr_K.60H_K        0.7867 0.4946\n",
      "Pr_K.60H_K        0.7898 0.4936\n",
      "Pr_K.60H_K        0.7929 0.4926\n",
      "Pr_K.60H_K        0.7959 0.4914\n",
      "Pr_K.60H_K        0.7990 0.4904\n",
      "Pr_K.60H_K        0.8021 0.4890\n",
      "Pr_K.60H_K        0.8051 0.4876\n",
      "Pr_K.60H_K        0.8082 0.4862\n",
      "Pr_K.60H_K        0.8112 0.4848\n",
      "Pr_K.60H_K        0.8143 0.4832\n",
      "Pr_K.60H_K        0.8174 0.4816\n",
      "Pr_K.60H_K        0.8204 0.4798\n",
      "Pr_K.60H_K        0.8235 0.4780\n",
      "Pr_K.60H_K        0.8265 0.4760\n",
      "Pr_K.60H_K        0.8296 0.4740\n",
      "Pr_K.60H_K        0.8327 0.4718\n",
      "Pr_K.60H_K        0.8357 0.4696\n",
      "Pr_K.60H_K        0.8388 0.4674\n",
      "Pr_K.60H_K        0.8419 0.4650\n",
      "Pr_K.60H_K        0.8449 0.4626\n",
      "Pr_K.60H_K        0.8480 0.4600\n",
      "Pr_K.60H_K        0.8510 0.4574\n",
      "Pr_K.60H_K        0.8541 0.4546\n",
      "Pr_K.60H_K        0.8572 0.4518\n",
      "Pr_K.60H_K        0.8602 0.4488\n",
      "Pr_K.60H_K        0.8633 0.4458\n",
      "Pr_K.60H_K        0.8663 0.4426\n",
      "Pr_K.60H_K        0.8694 0.4392\n",
      "Pr_K.60H_K        0.8725 0.4358\n",
      "Pr_K.60H_K        0.8755 0.4324\n",
      "Pr_K.60H_K        0.8786 0.4288\n",
      "Pr_K.60H_K        0.8817 0.4250\n",
      "Pr_K.60H_K        0.8847 0.4212\n",
      "Pr_K.60H_K        0.8878 0.4172\n",
      "Pr_K.60H_K        0.8908 0.4132\n",
      "Pr_K.60H_K        0.8939 0.4088\n",
      "Pr_K.60H_K        0.8970 0.4044\n",
      "Pr_K.60H_K        0.9000 0.4000\n",
      "Pr_K.60H_K        0.9031 0.3952\n",
      "Pr_K.60H_K        0.9062 0.3904\n",
      "Pr_K.60H_K        0.9092 0.3854\n",
      "Pr_K.60H_K        0.9123 0.3804\n",
      "Pr_K.60H_K        0.9153 0.3750\n",
      "Pr_K.60H_K        0.9184 0.3696\n",
      "Pr_K.60H_K        0.9215 0.3638\n",
      "Pr_K.60H_K        0.9245 0.3580\n",
      "Pr_K.60H_K        0.9276 0.3520\n",
      "Pr_K.60H_K        0.9306 0.3456\n",
      "Pr_K.60H_K        0.9337 0.3392\n",
      "Pr_K.60H_K        0.9368 0.3324\n",
      "Pr_K.60H_K        0.9398 0.3254\n",
      "Pr_K.60H_K        0.9429 0.3180\n",
      "Pr_K.60H_K        0.9460 0.3104\n",
      "Pr_K.60H_K        0.9490 0.3026\n",
      "Pr_K.60H_K        0.9521 0.2944\n",
      "Pr_K.60H_K        0.9551 0.2858\n",
      "Pr_K.60H_K        0.9582 0.2768\n",
      "Pr_K.60H_K        0.9613 0.2674\n",
      "Pr_K.60H_K        0.9643 0.2574\n",
      "Pr_K.60H_K        0.9674 0.2470\n",
      "Pr_K.60H_K        0.9705 0.2358\n",
      "Pr_K.60H_K        0.9735 0.2240\n",
      "Pr_K.60H_K        0.9766 0.2114\n",
      "Pr_K.60H_K        0.9796 0.1976\n",
      "Pr_K.60H_K        0.9827 0.1828\n",
      "Pr_K.60H_K        0.9858 0.1664\n",
      "Pr_K.60H_K        0.9888 0.1478\n",
      "Pr_K.60H_K        0.9919 0.1264\n",
      "Pr_K.60H_K        0.9949 0.1000\n",
      "Pr_K.60H_K        0.9980 0.0630\n"
     ]
    }
   ],
   "source": [
    "print(kasten.inp_string())"
   ]
  }
 ],
 "metadata": {
  "celltoolbar": "Raw Cell Format",
  "kernelspec": {
   "display_name": "Python 3",
   "language": "python",
   "name": "python3"
  },
  "language_info": {
   "codemirror_mode": {
    "name": "ipython",
    "version": 3
   },
   "file_extension": ".py",
   "mimetype": "text/x-python",
   "name": "python",
   "nbconvert_exporter": "python",
   "pygments_lexer": "ipython3",
   "version": "3.7.3"
  },
  "pycharm": {
   "stem_cell": {
    "cell_type": "raw",
    "metadata": {
     "collapsed": false
    },
    "source": []
   }
  }
 },
 "nbformat": 4,
 "nbformat_minor": 2
}
