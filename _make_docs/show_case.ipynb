{
 "cells": [
  {
   "cell_type": "markdown",
   "metadata": {},
   "source": [
    "# Examples for general profile shapes"
   ]
  },
  {
   "cell_type": "code",
   "execution_count": 1,
   "metadata": {
    "pycharm": {
     "is_executing": false
    }
   },
   "outputs": [],
   "source": [
    "from shape_generator import CrossSectionHolding as CrossSection, Circle, csv"
   ]
  },
  {
   "cell_type": "markdown",
   "metadata": {},
   "source": [
    "## Example for standard egg cross section"
   ]
  },
  {
   "cell_type": "code",
   "execution_count": 2,
   "metadata": {
    "pycharm": {
     "is_executing": false
    }
   },
   "outputs": [
    {
     "data": {
      "text/html": [
       "<div>\n",
       "<style scoped>\n",
       "    .dataframe tbody tr th:only-of-type {\n",
       "        vertical-align: middle;\n",
       "    }\n",
       "\n",
       "    .dataframe tbody tr th {\n",
       "        vertical-align: top;\n",
       "    }\n",
       "\n",
       "    .dataframe thead th {\n",
       "        text-align: right;\n",
       "    }\n",
       "</style>\n",
       "<table border=\"1\" class=\"dataframe\">\n",
       "  <thead>\n",
       "    <tr style=\"text-align: right;\">\n",
       "      <th></th>\n",
       "      <th>name</th>\n",
       "      <th>r</th>\n",
       "    </tr>\n",
       "    <tr>\n",
       "      <th>label</th>\n",
       "      <th></th>\n",
       "      <th></th>\n",
       "    </tr>\n",
       "  </thead>\n",
       "  <tbody>\n",
       "    <tr>\n",
       "      <th>P0</th>\n",
       "      <td>0</td>\n",
       "      <td>30</td>\n",
       "    </tr>\n",
       "    <tr>\n",
       "      <th>P1</th>\n",
       "      <td>1</td>\n",
       "      <td>35</td>\n",
       "    </tr>\n",
       "    <tr>\n",
       "      <th>P2</th>\n",
       "      <td>2</td>\n",
       "      <td>40</td>\n",
       "    </tr>\n",
       "    <tr>\n",
       "      <th>P3</th>\n",
       "      <td>3</td>\n",
       "      <td>45</td>\n",
       "    </tr>\n",
       "    <tr>\n",
       "      <th>P4</th>\n",
       "      <td>4</td>\n",
       "      <td>50</td>\n",
       "    </tr>\n",
       "    <tr>\n",
       "      <th>P5</th>\n",
       "      <td>5</td>\n",
       "      <td>55</td>\n",
       "    </tr>\n",
       "    <tr>\n",
       "      <th>P6</th>\n",
       "      <td>6</td>\n",
       "      <td>60</td>\n",
       "    </tr>\n",
       "    <tr>\n",
       "      <th>P7</th>\n",
       "      <td>6a</td>\n",
       "      <td>65</td>\n",
       "    </tr>\n",
       "  </tbody>\n",
       "</table>\n",
       "</div>"
      ],
      "text/plain": [
       "      name   r\n",
       "label         \n",
       "P0       0  30\n",
       "P1       1  35\n",
       "P2       2  40\n",
       "P3       3  45\n",
       "P4       4  50\n",
       "P5       5  55\n",
       "P6       6  60\n",
       "P7      6a  65"
      ]
     },
     "execution_count": 2,
     "metadata": {},
     "output_type": "execute_result"
    }
   ],
   "source": [
    "profile_dimensions = csv(\"\"\"\n",
    "label,name,r\n",
    "P0,0,30\n",
    "P1,1,35\n",
    "P2,2,40\n",
    "P3,3,45\n",
    "P4,4,50\n",
    "P5,5,55\n",
    "P6,6,60\n",
    "P7,6a,65\n",
    "\"\"\")\n",
    "unit = 'cm'\n",
    "profile_dimensions"
   ]
  },
  {
   "cell_type": "code",
   "execution_count": 3,
   "metadata": {
    "pycharm": {
     "is_executing": false
    }
   },
   "outputs": [
    {
     "name": "stdout",
     "output_type": "stream",
     "text": [
      "______________________________\n",
      "Pr_P0:  0\n"
     ]
    }
   ],
   "source": [
    "label = 'P0'\n",
    "name, r = profile_dimensions.loc[label].values\n",
    "R = 3 * r\n",
    "roh = r / 2\n",
    "height = r * 3\n",
    "width = r * 2\n",
    "# h1 = roh - (r + roh) / (R - roh) * roh\n",
    "h1 = r/ 5\n",
    "\n",
    "cross_section = CrossSection(label=label, description=name, width=width, height=height, unit=unit)\n",
    "cross_section.add(Circle(roh, x_m=roh))\n",
    "cross_section.add(h1)\n",
    "cross_section.add(Circle(R, x_m=2 * r, y_m=-(R - r)))\n",
    "cross_section.add(2 * r)\n",
    "cross_section.add(Circle(r, x_m=2 * r))"
   ]
  },
  {
   "cell_type": "code",
   "execution_count": 4,
   "metadata": {
    "pycharm": {
     "is_executing": false
    }
   },
   "outputs": [
    {
     "data": {
      "text/html": [
       "<div>\n",
       "<style scoped>\n",
       "    .dataframe tbody tr th:only-of-type {\n",
       "        vertical-align: middle;\n",
       "    }\n",
       "\n",
       "    .dataframe tbody tr th {\n",
       "        vertical-align: top;\n",
       "    }\n",
       "\n",
       "    .dataframe thead th {\n",
       "        text-align: right;\n",
       "    }\n",
       "</style>\n",
       "<table border=\"1\" class=\"dataframe\">\n",
       "  <thead>\n",
       "    <tr style=\"text-align: right;\">\n",
       "      <th></th>\n",
       "      <th>x</th>\n",
       "      <th>y</th>\n",
       "    </tr>\n",
       "  </thead>\n",
       "  <tbody>\n",
       "    <tr>\n",
       "      <th>0</th>\n",
       "      <td>0.0</td>\n",
       "      <td>0.000000</td>\n",
       "    </tr>\n",
       "    <tr>\n",
       "      <th>1</th>\n",
       "      <td>0.9</td>\n",
       "      <td>5.117617</td>\n",
       "    </tr>\n",
       "    <tr>\n",
       "      <th>2</th>\n",
       "      <td>1.8</td>\n",
       "      <td>7.124605</td>\n",
       "    </tr>\n",
       "    <tr>\n",
       "      <th>3</th>\n",
       "      <td>2.7</td>\n",
       "      <td>8.585453</td>\n",
       "    </tr>\n",
       "    <tr>\n",
       "      <th>4</th>\n",
       "      <td>3.6</td>\n",
       "      <td>9.748846</td>\n",
       "    </tr>\n",
       "    <tr>\n",
       "      <th>5</th>\n",
       "      <td>4.5</td>\n",
       "      <td>10.712143</td>\n",
       "    </tr>\n",
       "    <tr>\n",
       "      <th>6</th>\n",
       "      <td>5.4</td>\n",
       "      <td>11.525624</td>\n",
       "    </tr>\n",
       "    <tr>\n",
       "      <th>7</th>\n",
       "      <td>6.0</td>\n",
       "      <td>12.000000</td>\n",
       "    </tr>\n",
       "    <tr>\n",
       "      <th>8</th>\n",
       "      <td>6.9</td>\n",
       "      <td>12.666292</td>\n",
       "    </tr>\n",
       "    <tr>\n",
       "      <th>9</th>\n",
       "      <td>7.8</td>\n",
       "      <td>13.315483</td>\n",
       "    </tr>\n",
       "    <tr>\n",
       "      <th>10</th>\n",
       "      <td>8.7</td>\n",
       "      <td>13.948022</td>\n",
       "    </tr>\n",
       "    <tr>\n",
       "      <th>11</th>\n",
       "      <td>9.6</td>\n",
       "      <td>14.564335</td>\n",
       "    </tr>\n",
       "    <tr>\n",
       "      <th>12</th>\n",
       "      <td>10.5</td>\n",
       "      <td>15.164819</td>\n",
       "    </tr>\n",
       "    <tr>\n",
       "      <th>13</th>\n",
       "      <td>11.4</td>\n",
       "      <td>15.749851</td>\n",
       "    </tr>\n",
       "    <tr>\n",
       "      <th>14</th>\n",
       "      <td>12.3</td>\n",
       "      <td>16.319788</td>\n",
       "    </tr>\n",
       "    <tr>\n",
       "      <th>15</th>\n",
       "      <td>13.2</td>\n",
       "      <td>16.874963</td>\n",
       "    </tr>\n",
       "    <tr>\n",
       "      <th>16</th>\n",
       "      <td>14.1</td>\n",
       "      <td>17.415696</td>\n",
       "    </tr>\n",
       "    <tr>\n",
       "      <th>17</th>\n",
       "      <td>15.0</td>\n",
       "      <td>17.942286</td>\n",
       "    </tr>\n",
       "    <tr>\n",
       "      <th>18</th>\n",
       "      <td>15.9</td>\n",
       "      <td>18.455019</td>\n",
       "    </tr>\n",
       "    <tr>\n",
       "      <th>19</th>\n",
       "      <td>16.8</td>\n",
       "      <td>18.954164</td>\n",
       "    </tr>\n",
       "    <tr>\n",
       "      <th>20</th>\n",
       "      <td>17.7</td>\n",
       "      <td>19.439977</td>\n",
       "    </tr>\n",
       "    <tr>\n",
       "      <th>21</th>\n",
       "      <td>18.6</td>\n",
       "      <td>19.912702</td>\n",
       "    </tr>\n",
       "    <tr>\n",
       "      <th>22</th>\n",
       "      <td>19.5</td>\n",
       "      <td>20.372570</td>\n",
       "    </tr>\n",
       "    <tr>\n",
       "      <th>23</th>\n",
       "      <td>20.4</td>\n",
       "      <td>20.819800</td>\n",
       "    </tr>\n",
       "    <tr>\n",
       "      <th>24</th>\n",
       "      <td>21.3</td>\n",
       "      <td>21.254600</td>\n",
       "    </tr>\n",
       "    <tr>\n",
       "      <th>25</th>\n",
       "      <td>22.2</td>\n",
       "      <td>21.677169</td>\n",
       "    </tr>\n",
       "    <tr>\n",
       "      <th>26</th>\n",
       "      <td>23.1</td>\n",
       "      <td>22.087697</td>\n",
       "    </tr>\n",
       "    <tr>\n",
       "      <th>27</th>\n",
       "      <td>24.0</td>\n",
       "      <td>22.486363</td>\n",
       "    </tr>\n",
       "    <tr>\n",
       "      <th>28</th>\n",
       "      <td>24.9</td>\n",
       "      <td>22.873337</td>\n",
       "    </tr>\n",
       "    <tr>\n",
       "      <th>29</th>\n",
       "      <td>25.8</td>\n",
       "      <td>23.248784</td>\n",
       "    </tr>\n",
       "    <tr>\n",
       "      <th>...</th>\n",
       "      <td>...</td>\n",
       "      <td>...</td>\n",
       "    </tr>\n",
       "    <tr>\n",
       "      <th>72</th>\n",
       "      <td>64.5</td>\n",
       "      <td>29.660580</td>\n",
       "    </tr>\n",
       "    <tr>\n",
       "      <th>73</th>\n",
       "      <td>65.4</td>\n",
       "      <td>29.509998</td>\n",
       "    </tr>\n",
       "    <tr>\n",
       "      <th>74</th>\n",
       "      <td>66.3</td>\n",
       "      <td>29.331042</td>\n",
       "    </tr>\n",
       "    <tr>\n",
       "      <th>75</th>\n",
       "      <td>67.2</td>\n",
       "      <td>29.123187</td>\n",
       "    </tr>\n",
       "    <tr>\n",
       "      <th>76</th>\n",
       "      <td>68.1</td>\n",
       "      <td>28.885810</td>\n",
       "    </tr>\n",
       "    <tr>\n",
       "      <th>77</th>\n",
       "      <td>69.0</td>\n",
       "      <td>28.618176</td>\n",
       "    </tr>\n",
       "    <tr>\n",
       "      <th>78</th>\n",
       "      <td>69.9</td>\n",
       "      <td>28.319428</td>\n",
       "    </tr>\n",
       "    <tr>\n",
       "      <th>79</th>\n",
       "      <td>70.8</td>\n",
       "      <td>27.988569</td>\n",
       "    </tr>\n",
       "    <tr>\n",
       "      <th>80</th>\n",
       "      <td>71.7</td>\n",
       "      <td>27.624446</td>\n",
       "    </tr>\n",
       "    <tr>\n",
       "      <th>81</th>\n",
       "      <td>72.6</td>\n",
       "      <td>27.225723</td>\n",
       "    </tr>\n",
       "    <tr>\n",
       "      <th>82</th>\n",
       "      <td>73.5</td>\n",
       "      <td>26.790857</td>\n",
       "    </tr>\n",
       "    <tr>\n",
       "      <th>83</th>\n",
       "      <td>74.4</td>\n",
       "      <td>26.318055</td>\n",
       "    </tr>\n",
       "    <tr>\n",
       "      <th>84</th>\n",
       "      <td>75.3</td>\n",
       "      <td>25.805232</td>\n",
       "    </tr>\n",
       "    <tr>\n",
       "      <th>85</th>\n",
       "      <td>76.2</td>\n",
       "      <td>25.249950</td>\n",
       "    </tr>\n",
       "    <tr>\n",
       "      <th>86</th>\n",
       "      <td>77.1</td>\n",
       "      <td>24.649341</td>\n",
       "    </tr>\n",
       "    <tr>\n",
       "      <th>87</th>\n",
       "      <td>78.0</td>\n",
       "      <td>24.000000</td>\n",
       "    </tr>\n",
       "    <tr>\n",
       "      <th>88</th>\n",
       "      <td>78.9</td>\n",
       "      <td>23.297854</td>\n",
       "    </tr>\n",
       "    <tr>\n",
       "      <th>89</th>\n",
       "      <td>79.8</td>\n",
       "      <td>22.537968</td>\n",
       "    </tr>\n",
       "    <tr>\n",
       "      <th>90</th>\n",
       "      <td>80.7</td>\n",
       "      <td>21.714281</td>\n",
       "    </tr>\n",
       "    <tr>\n",
       "      <th>91</th>\n",
       "      <td>81.6</td>\n",
       "      <td>20.819222</td>\n",
       "    </tr>\n",
       "    <tr>\n",
       "      <th>92</th>\n",
       "      <td>82.5</td>\n",
       "      <td>19.843135</td>\n",
       "    </tr>\n",
       "    <tr>\n",
       "      <th>93</th>\n",
       "      <td>83.4</td>\n",
       "      <td>18.773385</td>\n",
       "    </tr>\n",
       "    <tr>\n",
       "      <th>94</th>\n",
       "      <td>84.3</td>\n",
       "      <td>17.592896</td>\n",
       "    </tr>\n",
       "    <tr>\n",
       "      <th>95</th>\n",
       "      <td>85.2</td>\n",
       "      <td>16.277592</td>\n",
       "    </tr>\n",
       "    <tr>\n",
       "      <th>96</th>\n",
       "      <td>86.1</td>\n",
       "      <td>14.791552</td>\n",
       "    </tr>\n",
       "    <tr>\n",
       "      <th>97</th>\n",
       "      <td>87.0</td>\n",
       "      <td>13.076697</td>\n",
       "    </tr>\n",
       "    <tr>\n",
       "      <th>98</th>\n",
       "      <td>87.9</td>\n",
       "      <td>11.026786</td>\n",
       "    </tr>\n",
       "    <tr>\n",
       "      <th>99</th>\n",
       "      <td>88.8</td>\n",
       "      <td>8.400000</td>\n",
       "    </tr>\n",
       "    <tr>\n",
       "      <th>100</th>\n",
       "      <td>89.7</td>\n",
       "      <td>4.232021</td>\n",
       "    </tr>\n",
       "    <tr>\n",
       "      <th>101</th>\n",
       "      <td>90.0</td>\n",
       "      <td>0.000000</td>\n",
       "    </tr>\n",
       "  </tbody>\n",
       "</table>\n",
       "<p>102 rows × 2 columns</p>\n",
       "</div>"
      ],
      "text/plain": [
       "        x          y\n",
       "0     0.0   0.000000\n",
       "1     0.9   5.117617\n",
       "2     1.8   7.124605\n",
       "3     2.7   8.585453\n",
       "4     3.6   9.748846\n",
       "5     4.5  10.712143\n",
       "6     5.4  11.525624\n",
       "7     6.0  12.000000\n",
       "8     6.9  12.666292\n",
       "9     7.8  13.315483\n",
       "10    8.7  13.948022\n",
       "11    9.6  14.564335\n",
       "12   10.5  15.164819\n",
       "13   11.4  15.749851\n",
       "14   12.3  16.319788\n",
       "15   13.2  16.874963\n",
       "16   14.1  17.415696\n",
       "17   15.0  17.942286\n",
       "18   15.9  18.455019\n",
       "19   16.8  18.954164\n",
       "20   17.7  19.439977\n",
       "21   18.6  19.912702\n",
       "22   19.5  20.372570\n",
       "23   20.4  20.819800\n",
       "24   21.3  21.254600\n",
       "25   22.2  21.677169\n",
       "26   23.1  22.087697\n",
       "27   24.0  22.486363\n",
       "28   24.9  22.873337\n",
       "29   25.8  23.248784\n",
       "..    ...        ...\n",
       "72   64.5  29.660580\n",
       "73   65.4  29.509998\n",
       "74   66.3  29.331042\n",
       "75   67.2  29.123187\n",
       "76   68.1  28.885810\n",
       "77   69.0  28.618176\n",
       "78   69.9  28.319428\n",
       "79   70.8  27.988569\n",
       "80   71.7  27.624446\n",
       "81   72.6  27.225723\n",
       "82   73.5  26.790857\n",
       "83   74.4  26.318055\n",
       "84   75.3  25.805232\n",
       "85   76.2  25.249950\n",
       "86   77.1  24.649341\n",
       "87   78.0  24.000000\n",
       "88   78.9  23.297854\n",
       "89   79.8  22.537968\n",
       "90   80.7  21.714281\n",
       "91   81.6  20.819222\n",
       "92   82.5  19.843135\n",
       "93   83.4  18.773385\n",
       "94   84.3  17.592896\n",
       "95   85.2  16.277592\n",
       "96   86.1  14.791552\n",
       "97   87.0  13.076697\n",
       "98   87.9  11.026786\n",
       "99   88.8   8.400000\n",
       "100  89.7   4.232021\n",
       "101  90.0   0.000000\n",
       "\n",
       "[102 rows x 2 columns]"
      ]
     },
     "execution_count": 4,
     "metadata": {},
     "output_type": "execute_result"
    }
   ],
   "source": [
    "cross_section.df_abs"
   ]
  },
  {
   "cell_type": "code",
   "execution_count": 5,
   "metadata": {
    "pycharm": {
     "is_executing": false
    }
   },
   "outputs": [
    {
     "data": {
      "image/png": "[encoded data removed]",
      "text/plain": [
       "<Figure size 432x288 with 1 Axes>"
      ]
     },
     "metadata": {},
     "output_type": "display_data"
    }
   ],
   "source": [
    "fig = cross_section.profile_abs_figure()"
   ]
  },
  {
   "cell_type": "markdown",
   "metadata": {},
   "source": [
    "## Example for custom cross section"
   ]
  },
  {
   "cell_type": "code",
   "execution_count": 6,
   "metadata": {
    "pycharm": {
     "is_executing": false
    }
   },
   "outputs": [
    {
     "name": "stdout",
     "output_type": "stream",
     "text": [
      "______________________________\n",
      "Pr_test:  Kreis\n",
      "-----\n",
      "(0, 40.0, Circle Function (radius=20.00, mid=[20.00, 0.00]))\n",
      "-----\n"
     ]
    },
    {
     "data": {
      "image/png": "[encoded data removed]",
      "text/plain": [
       "<Figure size 432x288 with 1 Axes>"
      ]
     },
     "metadata": {},
     "output_type": "display_data"
    }
   ],
   "source": [
    "no = 'test'\n",
    "name = 'Kreis'\n",
    "r = 20  # cm\n",
    "unit = 'cm'\n",
    "\n",
    "kreis = CrossSection(label=no, description=name, height=2*r, unit=unit)\n",
    "kreis.add_and_show(Circle(r, x_m=r))"
   ]
  },
  {
   "cell_type": "code",
   "execution_count": 7,
   "metadata": {
    "pycharm": {
     "is_executing": false
    }
   },
   "outputs": [
    {
     "name": "stdout",
     "output_type": "stream",
     "text": [
      "-----\n",
      "(0, 20.0, Circle Function (radius=20.00, mid=[20.00, 0.00]))\n",
      "(20.0, 40, Slope Function (k=-1.00, zero=[20.00, 20.00]))\n",
      "-----\n"
     ]
    },
    {
     "data": {
      "image/png": "[encoded data removed]",
      "text/plain": [
       "<Figure size 432x288 with 1 Axes>"
      ]
     },
     "metadata": {},
     "output_type": "display_data"
    }
   ],
   "source": [
    "kreis.add_and_show(r)"
   ]
  },
  {
   "cell_type": "code",
   "execution_count": 8,
   "metadata": {
    "pycharm": {
     "is_executing": false
    }
   },
   "outputs": [
    {
     "name": "stdout",
     "output_type": "stream",
     "text": [
      "-----\n",
      "(0, 20.0, Circle Function (radius=20.00, mid=[20.00, 0.00]))\n",
      "(20.0, 40.0, Slope Function (k=0.58, zero=[20.00, 20.00]))\n",
      "-----\n"
     ]
    },
    {
     "data": {
      "image/png": "[encoded data removed]",
      "text/plain": [
       "<Figure size 432x288 with 1 Axes>"
      ]
     },
     "metadata": {},
     "output_type": "display_data"
    }
   ],
   "source": [
    "kreis.add_and_show(30, '°slope')"
   ]
  },
  {
   "cell_type": "code",
   "execution_count": 9,
   "metadata": {
    "pycharm": {
     "is_executing": false
    }
   },
   "outputs": [
    {
     "name": "stdout",
     "output_type": "stream",
     "text": [
      "-----\n",
      "(0, 20.0, Circle Function (radius=20.00, mid=[20.00, 0.00]))\n",
      "(20.0, 25.773502691896248, Slope Function (k=0.58, zero=[20.00, 20.00]))\n",
      "(25.773502691896248, 40, Slope Function (k=-0.47, zero=[25.77, 30.00]))\n",
      "-----\n"
     ]
    },
    {
     "data": {
      "image/png": "[encoded data removed]",
      "text/plain": [
       "<Figure size 432x288 with 1 Axes>"
      ]
     },
     "metadata": {},
     "output_type": "display_data"
    }
   ],
   "source": [
    "kreis.add_and_show(None,1.5*r)"
   ]
  }
 ],
 "metadata": {
  "kernelspec": {
   "display_name": "Python 3",
   "language": "python",
   "name": "python3"
  },
  "language_info": {
   "codemirror_mode": {
    "name": "ipython",
    "version": 3
   },
   "file_extension": ".py",
   "mimetype": "text/x-python",
   "name": "python",
   "nbconvert_exporter": "python",
   "pygments_lexer": "ipython3",
   "version": "3.7.3"
  },
  "pycharm": {
   "stem_cell": {
    "cell_type": "raw",
    "metadata": {
     "collapsed": false
    },
    "source": []
   }
  }
 },
 "nbformat": 4,
 "nbformat_minor": 2
}
