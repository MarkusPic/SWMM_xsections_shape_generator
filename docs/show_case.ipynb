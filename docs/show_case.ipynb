{
 "cells": [
  {
   "cell_type": "markdown",
   "metadata": {},
   "source": [
    "# Examples for general profile shapes"
   ]
  },
  {
   "cell_type": "code",
   "execution_count": 1,
   "metadata": {},
   "outputs": [],
   "source": [
    "from shape_generator import CrossSection, Circle"
   ]
  },
  {
   "cell_type": "markdown",
   "metadata": {},
   "source": [
    "## Example for standard egg cross section"
   ]
  },
  {
   "cell_type": "code",
   "execution_count": 2,
   "metadata": {},
   "outputs": [],
   "source": [
    "label = 'P0'\n",
    "r = 30\n",
    "unit = 'cm'\n",
    "R = 3 * r\n",
    "roh = r / 2\n",
    "height = r * 3\n",
    "width = r * 2\n",
    "# h1 = roh - (r + roh) / (R - roh) * roh\n",
    "h1 = r/ 5\n",
    "\n",
    "cross_section = CrossSection(label=label, width=width, height=height, unit=unit)\n",
    "cross_section.add(Circle(roh, x_m=roh))\n",
    "cross_section.add(h1)\n",
    "cross_section.add(Circle(R, x_m=2 * r, y_m=-(R - r)))\n",
    "cross_section.add(2 * r)\n",
    "cross_section.add(Circle(r, x_m=2 * r))"
   ]
  },
  {
   "cell_type": "code",
   "execution_count": 3,
   "metadata": {},
   "outputs": [
    {
     "data": {
      "text/html": [
       "<div>\n",
       "<style scoped>\n",
       "    .dataframe tbody tr th:only-of-type {\n",
       "        vertical-align: middle;\n",
       "    }\n",
       "\n",
       "    .dataframe tbody tr th {\n",
       "        vertical-align: top;\n",
       "    }\n",
       "\n",
       "    .dataframe thead th {\n",
       "        text-align: right;\n",
       "    }\n",
       "</style>\n",
       "<table border=\"1\" class=\"dataframe\">\n",
       "  <thead>\n",
       "    <tr style=\"text-align: right;\">\n",
       "      <th></th>\n",
       "      <th>$h_i$</th>\n",
       "      <th>$A_i$</th>\n",
       "    </tr>\n",
       "  </thead>\n",
       "  <tbody>\n",
       "    <tr>\n",
       "      <th>0</th>\n",
       "      <td>0.00</td>\n",
       "      <td>0.000000</td>\n",
       "    </tr>\n",
       "    <tr>\n",
       "      <th>1</th>\n",
       "      <td>0.09</td>\n",
       "      <td>1.640701</td>\n",
       "    </tr>\n",
       "    <tr>\n",
       "      <th>2</th>\n",
       "      <td>0.45</td>\n",
       "      <td>3.646574</td>\n",
       "    </tr>\n",
       "    <tr>\n",
       "      <th>3</th>\n",
       "      <td>0.99</td>\n",
       "      <td>5.359095</td>\n",
       "    </tr>\n",
       "    <tr>\n",
       "      <th>4</th>\n",
       "      <td>1.62</td>\n",
       "      <td>6.780531</td>\n",
       "    </tr>\n",
       "    <tr>\n",
       "      <th>5</th>\n",
       "      <td>2.52</td>\n",
       "      <td>8.321634</td>\n",
       "    </tr>\n",
       "    <tr>\n",
       "      <th>6</th>\n",
       "      <td>3.51</td>\n",
       "      <td>9.642609</td>\n",
       "    </tr>\n",
       "    <tr>\n",
       "      <th>7</th>\n",
       "      <td>4.68</td>\n",
       "      <td>10.885660</td>\n",
       "    </tr>\n",
       "    <tr>\n",
       "      <th>8</th>\n",
       "      <td>6.00</td>\n",
       "      <td>12.000000</td>\n",
       "    </tr>\n",
       "    <tr>\n",
       "      <th>9</th>\n",
       "      <td>11.94</td>\n",
       "      <td>16.093603</td>\n",
       "    </tr>\n",
       "    <tr>\n",
       "      <th>10</th>\n",
       "      <td>18.24</td>\n",
       "      <td>19.725168</td>\n",
       "    </tr>\n",
       "    <tr>\n",
       "      <th>11</th>\n",
       "      <td>24.81</td>\n",
       "      <td>22.835161</td>\n",
       "    </tr>\n",
       "    <tr>\n",
       "      <th>12</th>\n",
       "      <td>31.56</td>\n",
       "      <td>25.388327</td>\n",
       "    </tr>\n",
       "    <tr>\n",
       "      <th>13</th>\n",
       "      <td>38.49</td>\n",
       "      <td>27.391761</td>\n",
       "    </tr>\n",
       "    <tr>\n",
       "      <th>14</th>\n",
       "      <td>45.60</td>\n",
       "      <td>28.840531</td>\n",
       "    </tr>\n",
       "    <tr>\n",
       "      <th>15</th>\n",
       "      <td>52.80</td>\n",
       "      <td>29.711538</td>\n",
       "    </tr>\n",
       "    <tr>\n",
       "      <th>16</th>\n",
       "      <td>60.00</td>\n",
       "      <td>30.000000</td>\n",
       "    </tr>\n",
       "    <tr>\n",
       "      <th>17</th>\n",
       "      <td>62.97</td>\n",
       "      <td>29.852623</td>\n",
       "    </tr>\n",
       "    <tr>\n",
       "      <th>18</th>\n",
       "      <td>65.85</td>\n",
       "      <td>29.424097</td>\n",
       "    </tr>\n",
       "    <tr>\n",
       "      <th>19</th>\n",
       "      <td>68.73</td>\n",
       "      <td>28.701692</td>\n",
       "    </tr>\n",
       "    <tr>\n",
       "      <th>20</th>\n",
       "      <td>71.52</td>\n",
       "      <td>27.699993</td>\n",
       "    </tr>\n",
       "    <tr>\n",
       "      <th>21</th>\n",
       "      <td>74.22</td>\n",
       "      <td>26.415745</td>\n",
       "    </tr>\n",
       "    <tr>\n",
       "      <th>22</th>\n",
       "      <td>76.74</td>\n",
       "      <td>24.895228</td>\n",
       "    </tr>\n",
       "    <tr>\n",
       "      <th>23</th>\n",
       "      <td>79.08</td>\n",
       "      <td>23.150672</td>\n",
       "    </tr>\n",
       "    <tr>\n",
       "      <th>24</th>\n",
       "      <td>81.24</td>\n",
       "      <td>21.186373</td>\n",
       "    </tr>\n",
       "    <tr>\n",
       "      <th>25</th>\n",
       "      <td>83.22</td>\n",
       "      <td>18.995568</td>\n",
       "    </tr>\n",
       "    <tr>\n",
       "      <th>26</th>\n",
       "      <td>84.93</td>\n",
       "      <td>16.688172</td>\n",
       "    </tr>\n",
       "    <tr>\n",
       "      <th>27</th>\n",
       "      <td>86.46</td>\n",
       "      <td>14.137482</td>\n",
       "    </tr>\n",
       "    <tr>\n",
       "      <th>28</th>\n",
       "      <td>87.72</td>\n",
       "      <td>11.471774</td>\n",
       "    </tr>\n",
       "    <tr>\n",
       "      <th>29</th>\n",
       "      <td>88.71</td>\n",
       "      <td>8.702638</td>\n",
       "    </tr>\n",
       "    <tr>\n",
       "      <th>30</th>\n",
       "      <td>89.43</td>\n",
       "      <td>5.820232</td>\n",
       "    </tr>\n",
       "    <tr>\n",
       "      <th>31</th>\n",
       "      <td>89.88</td>\n",
       "      <td>2.680597</td>\n",
       "    </tr>\n",
       "    <tr>\n",
       "      <th>32</th>\n",
       "      <td>90.00</td>\n",
       "      <td>0.000000</td>\n",
       "    </tr>\n",
       "  </tbody>\n",
       "</table>\n",
       "</div>"
      ],
      "text/plain": [
       "    $h_i$      $A_i$\n",
       "0    0.00   0.000000\n",
       "1    0.09   1.640701\n",
       "2    0.45   3.646574\n",
       "3    0.99   5.359095\n",
       "4    1.62   6.780531\n",
       "5    2.52   8.321634\n",
       "6    3.51   9.642609\n",
       "7    4.68  10.885660\n",
       "8    6.00  12.000000\n",
       "9   11.94  16.093603\n",
       "10  18.24  19.725168\n",
       "11  24.81  22.835161\n",
       "12  31.56  25.388327\n",
       "13  38.49  27.391761\n",
       "14  45.60  28.840531\n",
       "15  52.80  29.711538\n",
       "16  60.00  30.000000\n",
       "17  62.97  29.852623\n",
       "18  65.85  29.424097\n",
       "19  68.73  28.701692\n",
       "20  71.52  27.699993\n",
       "21  74.22  26.415745\n",
       "22  76.74  24.895228\n",
       "23  79.08  23.150672\n",
       "24  81.24  21.186373\n",
       "25  83.22  18.995568\n",
       "26  84.93  16.688172\n",
       "27  86.46  14.137482\n",
       "28  87.72  11.471774\n",
       "29  88.71   8.702638\n",
       "30  89.43   5.820232\n",
       "31  89.88   2.680597\n",
       "32  90.00   0.000000"
      ]
     },
     "execution_count": 3,
     "metadata": {},
     "output_type": "execute_result"
    }
   ],
   "source": [
    "import pandas as pd\n",
    "pd.DataFrame(cross_section.get_points()).T.rename(columns={0:'$h_i$', 1:'$w_i$'})"
   ]
  },
  {
   "cell_type": "code",
   "execution_count": 4,
   "metadata": {},
   "outputs": [
    {
     "data": {
      "image/png": "[encoded data removed]",
      "text/plain": [
       "<Figure size 432x288 with 1 Axes>"
      ]
     },
     "metadata": {},
     "output_type": "display_data"
    }
   ],
   "source": [
    "fig = cross_section.profile_figure()"
   ]
  },
  {
   "cell_type": "markdown",
   "metadata": {},
   "source": [
    "## Example for custom cross section"
   ]
  },
  {
   "cell_type": "code",
   "execution_count": 5,
   "metadata": {
    "collapsed": false,
    "pycharm": {
     "name": "#%%\n"
    }
   },
   "outputs": [],
   "source": [
    "def add_and_show(cs, *args, **kwargs):\n",
    "    cs.add(*args, **kwargs)\n",
    "    print('-' * 5, *cs.shape_description, '-' * 5, sep='\\n')\n",
    "    cs.profile_figure()"
   ]
  },
  {
   "cell_type": "code",
   "execution_count": 6,
   "metadata": {},
   "outputs": [
    {
     "name": "stdout",
     "output_type": "stream",
     "text": [
      "-----\n",
      "Circle Function (radius=20.00, mid=[20.00, 0.00])\n",
      "-----\n"
     ]
    },
    {
     "data": {
      "image/png": "[encoded data removed]",
      "text/plain": [
       "<Figure size 432x288 with 1 Axes>"
      ]
     },
     "metadata": {},
     "output_type": "display_data"
    }
   ],
   "source": [
    "label = 'Kreis'\n",
    "r = 20  # cm\n",
    "unit = 'cm'\n",
    "\n",
    "kreis = CrossSection(label=label, height=2*r, unit=unit)\n",
    "add_and_show(kreis, Circle(r, x_m=r))"
   ]
  },
  {
   "cell_type": "code",
   "execution_count": 7,
   "metadata": {},
   "outputs": [
    {
     "name": "stdout",
     "output_type": "stream",
     "text": [
      "-----\n",
      "Circle Function (radius=20.00, mid=[20.00, 0.00])\n",
      "Slope Function (k=-1.00, zero=[20.00, 20.00])\n",
      "-----\n"
     ]
    },
    {
     "data": {
      "image/png": "[encoded data removed]",
      "text/plain": [
       "<Figure size 432x288 with 1 Axes>"
      ]
     },
     "metadata": {},
     "output_type": "display_data"
    }
   ],
   "source": [
    "add_and_show(kreis, r)"
   ]
  },
  {
   "cell_type": "code",
   "execution_count": 8,
   "metadata": {},
   "outputs": [
    {
     "name": "stdout",
     "output_type": "stream",
     "text": [
      "-----\n",
      "Circle Function (radius=20.00, mid=[20.00, 0.00])\n",
      "Slope Function (k=0.58, zero=[20.00, 20.00])\n",
      "-----\n"
     ]
    },
    {
     "data": {
      "image/png": "[encoded data removed]",
      "text/plain": [
       "<Figure size 432x288 with 1 Axes>"
      ]
     },
     "metadata": {},
     "output_type": "display_data"
    }
   ],
   "source": [
    "add_and_show(kreis, 30, '°slope')"
   ]
  },
  {
   "cell_type": "code",
   "execution_count": 9,
   "metadata": {},
   "outputs": [
    {
     "name": "stdout",
     "output_type": "stream",
     "text": [
      "-----\n",
      "Circle Function (radius=20.00, mid=[20.00, 0.00])\n",
      "Slope Function (k=0.58, zero=[20.00, 20.00])\n",
      "Slope Function (k=-0.47, zero=[25.77, 30.00])\n",
      "-----\n"
     ]
    },
    {
     "data": {
      "image/png": "[encoded data removed]",
      "text/plain": [
       "<Figure size 432x288 with 1 Axes>"
      ]
     },
     "metadata": {},
     "output_type": "display_data"
    }
   ],
   "source": [
    "add_and_show(kreis, None,1.5*r)"
   ]
  }
 ],
 "metadata": {
  "kernelspec": {
   "display_name": "Python 3",
   "language": "python",
   "name": "python3"
  },
  "language_info": {
   "codemirror_mode": {
    "name": "ipython",
    "version": 3
   },
   "file_extension": ".py",
   "mimetype": "text/x-python",
   "name": "python",
   "nbconvert_exporter": "python",
   "pygments_lexer": "ipython3",
   "version": "3.7.3"
  }
 },
 "nbformat": 4,
 "nbformat_minor": 2
}
